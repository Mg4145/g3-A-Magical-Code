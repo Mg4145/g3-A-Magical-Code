{
 "cells": [
  {
   "cell_type": "markdown",
   "metadata": {},
   "source": [
    "# Generator Code!"
   ]
  },
  {
   "cell_type": "code",
   "execution_count": 53,
   "metadata": {},
   "outputs": [],
   "source": [
    "import numpy as np\n"
   ]
  },
  {
   "cell_type": "code",
   "execution_count": 54,
   "metadata": {},
   "outputs": [],
   "source": [
    "class Generator:\n",
    "    def __init__(self,domain:str) -> None:\n",
    "        self.domain = list(domain)\n",
    "        self.look_up_dict = {}\n",
    "        index = 0\n",
    "        self.min_length = 3\n",
    "        self.max_length = 12\n",
    "        self.count = 1000\n",
    "        for i in self.domain:\n",
    "            self.look_up_dict[index] = i\n",
    "            index +=1\n",
    "        self.largest_num = len(self.domain)-1\n",
    "    def set_min(self,min) -> None:\n",
    "        self.min_length = min\n",
    "    def set_max(self,max) -> None:\n",
    "        self.max_length = max\n",
    "    def set_count(self,count) -> None:\n",
    "        self.count = count\n",
    "    def create_word(self,word_length)->str:\n",
    "        letters_num =np.random.randint(low = 0, high = self.largest_num, size = word_length)\n",
    "        word = \"\"\n",
    "        word = [self.look_up_dict[num] for num in letters_num]\n",
    "        result = \"\".join(word)\n",
    "        return result\n",
    "\n",
    "    def create_word_list(self) -> list[str]:\n",
    "        word_length =np.random.randint(low = self.min_length, high = self.max_length, size = self.count)\n",
    "        word_list = [self.create_word(i) for i in word_length]\n",
    "        return word_list\n",
    "    "
   ]
  },
  {
   "cell_type": "code",
   "execution_count": 55,
   "metadata": {},
   "outputs": [],
   "source": [
    "def create_word_list_file(file_name =\"example.txt\" ):\n",
    "    s = \" 0123456789\"\n",
    "    s+=\"abcdefghijklmnopqrstuvwxyz\"\n",
    "    s+= \".\"\n",
    "\n",
    "    random_gen = Generator(s)\n",
    "\n",
    "    f = open(file_name, \"w\") \n",
    "    word_list= random_gen.create_word_list()\n",
    "    for word in word_list :\n",
    "        output =word\n",
    "        output += \"\\n\"\n",
    "        f.write(output)\n",
    "    f.close()"
   ]
  },
  {
   "cell_type": "code",
   "execution_count": 56,
   "metadata": {},
   "outputs": [],
   "source": [
    "create_word_list_file()"
   ]
  },
  {
   "cell_type": "markdown",
   "metadata": {},
   "source": [
    "# Change Variables in the following cell"
   ]
  }
 ],
 "metadata": {
  "kernelspec": {
   "display_name": "Python 3.10.6 64-bit",
   "language": "python",
   "name": "python3"
  },
  "language_info": {
   "codemirror_mode": {
    "name": "ipython",
    "version": 3
   },
   "file_extension": ".py",
   "mimetype": "text/x-python",
   "name": "python",
   "nbconvert_exporter": "python",
   "pygments_lexer": "ipython3",
   "version": "3.10.6"
  },
  "orig_nbformat": 4,
  "vscode": {
   "interpreter": {
    "hash": "aee8b7b246df8f9039afb4144a1f6fd8d2ca17a180786b69acc140d282b71a49"
   }
  }
 },
 "nbformat": 4,
 "nbformat_minor": 2
}
