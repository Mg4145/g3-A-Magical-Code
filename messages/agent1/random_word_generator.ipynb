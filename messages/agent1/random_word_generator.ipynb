{
 "cells": [
  {
   "cell_type": "code",
   "execution_count": 33,
   "metadata": {},
   "outputs": [],
   "source": [
    "import numpy as np\n"
   ]
  },
  {
   "cell_type": "code",
   "execution_count": 34,
   "metadata": {},
   "outputs": [
    {
     "name": "stdout",
     "output_type": "stream",
     "text": [
      "{0: ' ', 1: '0', 2: '1', 3: '2', 4: '3', 5: '4', 6: '5', 7: '6', 8: '7', 9: '8', 10: '9', 11: 'a', 12: 'b', 13: 'c', 14: 'd', 15: 'e', 16: 'f', 17: 'g', 18: 'h', 19: 'i', 20: 'j', 21: 'k', 22: 'l', 23: 'm', 24: 'n', 25: 'o', 26: 'p', 27: 'q', 28: 'r', 29: 's', 30: 't', 31: 'u', 32: 'v', 33: 'w', 34: 'x', 35: 'y', 36: 'z', 37: '.'}\n"
     ]
    }
   ],
   "source": [
    "s = \" 0123456789\"\n",
    "s+=\"abcdefghijklmnopqrstuvwxyz\"\n",
    "s+= \".\"\n",
    "domain = list(s)\n",
    "\n",
    "look_up_dict = {}\n",
    "index = 0\n",
    "for i in domain:\n",
    "    look_up_dict[index] = i\n",
    "    index +=1\n",
    "print(look_up_dict)\n",
    "largest_num = len(domain)-1"
   ]
  },
  {
   "cell_type": "code",
   "execution_count": 35,
   "metadata": {},
   "outputs": [],
   "source": [
    "def create_word(word_length):\n",
    "    letters_num =np.random.randint(low = 0, high = largest_num, size = word_length)\n",
    "    word = \"\"\n",
    "    word = [look_up_dict[num] for num in letters_num]\n",
    "    result = \"\".join(word)\n",
    "    return result\n",
    "\n",
    "\n"
   ]
  },
  {
   "cell_type": "code",
   "execution_count": 36,
   "metadata": {},
   "outputs": [],
   "source": [
    "def create_word_list(count):\n",
    "    word_length =np.random.randint(low = 3, high = 12, size = count)\n",
    "    word_list = [create_word(i) for i in word_length]\n",
    "    return word_list\n",
    "\n"
   ]
  },
  {
   "cell_type": "code",
   "execution_count": 37,
   "metadata": {},
   "outputs": [
    {
     "data": {
      "text/plain": [
       "['y73p429',\n",
       " 'wxf',\n",
       " 'lmkc',\n",
       " '2 gxej8404',\n",
       " 'qzg01o',\n",
       " 'jsq9',\n",
       " 'w8h1yi',\n",
       " '5beel634q',\n",
       " 'xt0vfkbo',\n",
       " 'f1w6o3cg']"
      ]
     },
     "execution_count": 37,
     "metadata": {},
     "output_type": "execute_result"
    }
   ],
   "source": [
    "create_word_list(10)"
   ]
  },
  {
   "cell_type": "code",
   "execution_count": 38,
   "metadata": {},
   "outputs": [],
   "source": [
    "f = open(\"example.txt\", \"w\") # We will create this file.\n",
    "#write your codes here\n",
    "count = 1000\n",
    "word_list= create_word_list(count)\n",
    "for word in word_list :\n",
    "    output =word\n",
    "    output += \"\\n\"\n",
    "    f.write(output)\n",
    "f.close()"
   ]
  },
  {
   "cell_type": "code",
   "execution_count": null,
   "metadata": {},
   "outputs": [],
   "source": []
  }
 ],
 "metadata": {
  "kernelspec": {
   "display_name": "Python 3.10.6 64-bit",
   "language": "python",
   "name": "python3"
  },
  "language_info": {
   "codemirror_mode": {
    "name": "ipython",
    "version": 3
   },
   "file_extension": ".py",
   "mimetype": "text/x-python",
   "name": "python",
   "nbconvert_exporter": "python",
   "pygments_lexer": "ipython3",
   "version": "3.10.6"
  },
  "orig_nbformat": 4,
  "vscode": {
   "interpreter": {
    "hash": "aee8b7b246df8f9039afb4144a1f6fd8d2ca17a180786b69acc140d282b71a49"
   }
  }
 },
 "nbformat": 4,
 "nbformat_minor": 2
}
